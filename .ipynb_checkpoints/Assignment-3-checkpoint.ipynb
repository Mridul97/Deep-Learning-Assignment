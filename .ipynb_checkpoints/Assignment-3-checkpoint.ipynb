{
 "cells": [
  {
   "cell_type": "code",
   "execution_count": 1,
   "metadata": {
    "colab": {
     "base_uri": "https://localhost:8080/",
     "height": 34
    },
    "colab_type": "code",
    "executionInfo": {
     "elapsed": 2205,
     "status": "ok",
     "timestamp": 1561334134234,
     "user": {
      "displayName": "mridul aggarwal",
      "photoUrl": "",
      "userId": "16473271831777220551"
     },
     "user_tz": -330
    },
    "id": "Csjd6JXf1P6S",
    "outputId": "e99c1482-a224-4808-d629-51e09ddd7f9c"
   },
   "outputs": [
    {
     "name": "stdout",
     "output_type": "stream",
     "text": [
      "Drive already mounted at /content/drive; to attempt to forcibly remount, call drive.mount(\"/content/drive\", force_remount=True).\n"
     ]
    }
   ],
   "source": [
    "# Run this cell to mount your Google Drive.\n",
    "from google.colab import drive\n",
    "drive.mount('/content/drive')"
   ]
  },
  {
   "cell_type": "code",
   "execution_count": 2,
   "metadata": {
    "colab": {
     "base_uri": "https://localhost:8080/",
     "height": 34
    },
    "colab_type": "code",
    "executionInfo": {
     "elapsed": 4873,
     "status": "ok",
     "timestamp": 1561334136969,
     "user": {
      "displayName": "mridul aggarwal",
      "photoUrl": "",
      "userId": "16473271831777220551"
     },
     "user_tz": -330
    },
    "id": "r1bAJaDl1j4i",
    "outputId": "2e0b8eea-b28b-4a2d-88f6-f2692ee9fba9"
   },
   "outputs": [
    {
     "name": "stdout",
     "output_type": "stream",
     "text": [
      "\u001b[0m\u001b[01;34mdrive\u001b[0m/  \u001b[01;34msample_data\u001b[0m/\n"
     ]
    }
   ],
   "source": [
    "ls"
   ]
  },
  {
   "cell_type": "code",
   "execution_count": 0,
   "metadata": {
    "colab": {},
    "colab_type": "code",
    "id": "LB-QCLp71lF2"
   },
   "outputs": [],
   "source": [
    "import pandas as pd\n",
    "import matplotlib.pyplot as plt"
   ]
  },
  {
   "cell_type": "markdown",
   "metadata": {
    "colab_type": "text",
    "id": "7OOpJKz37oq9"
   },
   "source": [
    "# Loading Pickle Files"
   ]
  },
  {
   "cell_type": "code",
   "execution_count": 0,
   "metadata": {
    "colab": {},
    "colab_type": "code",
    "id": "fxw0My7wvW7E"
   },
   "outputs": [],
   "source": [
    "X_train = pd.read_pickle('drive/My Drive/Assignment-3/trainX.pickle')\n",
    "X_test = pd.read_pickle('drive/My Drive/Assignment-3/testX.pickle')\n",
    "y_train = pd.read_pickle('drive/My Drive/Assignment-3/trainY.pickle')"
   ]
  },
  {
   "cell_type": "code",
   "execution_count": 5,
   "metadata": {
    "colab": {
     "base_uri": "https://localhost:8080/",
     "height": 34
    },
    "colab_type": "code",
    "executionInfo": {
     "elapsed": 5214,
     "status": "ok",
     "timestamp": 1561334137398,
     "user": {
      "displayName": "mridul aggarwal",
      "photoUrl": "",
      "userId": "16473271831777220551"
     },
     "user_tz": -330
    },
    "id": "a9w4cXrz7uQo",
    "outputId": "3aed47e8-68b4-4d26-889d-6e9d1d9083b6"
   },
   "outputs": [
    {
     "data": {
      "text/plain": [
       "(60000, 28, 28)"
      ]
     },
     "execution_count": 5,
     "metadata": {
      "tags": []
     },
     "output_type": "execute_result"
    }
   ],
   "source": [
    "X_train.shape"
   ]
  },
  {
   "cell_type": "code",
   "execution_count": 6,
   "metadata": {
    "colab": {
     "base_uri": "https://localhost:8080/",
     "height": 34
    },
    "colab_type": "code",
    "executionInfo": {
     "elapsed": 5161,
     "status": "ok",
     "timestamp": 1561334137399,
     "user": {
      "displayName": "mridul aggarwal",
      "photoUrl": "",
      "userId": "16473271831777220551"
     },
     "user_tz": -330
    },
    "id": "AJbZ0EZP7y98",
    "outputId": "8b729ef0-eb25-49ac-c00e-87fc4d3d1a0a"
   },
   "outputs": [
    {
     "data": {
      "text/plain": [
       "(28, 28)"
      ]
     },
     "execution_count": 6,
     "metadata": {
      "tags": []
     },
     "output_type": "execute_result"
    }
   ],
   "source": [
    "X_train[1,:,:].shape"
   ]
  },
  {
   "cell_type": "markdown",
   "metadata": {
    "colab_type": "text",
    "id": "Vmhslmup72xJ"
   },
   "source": [
    "# Displaying first 5 images in the training set"
   ]
  },
  {
   "cell_type": "code",
   "execution_count": 7,
   "metadata": {
    "colab": {
     "base_uri": "https://localhost:8080/",
     "height": 1277
    },
    "colab_type": "code",
    "executionInfo": {
     "elapsed": 6482,
     "status": "ok",
     "timestamp": 1561334138753,
     "user": {
      "displayName": "mridul aggarwal",
      "photoUrl": "",
      "userId": "16473271831777220551"
     },
     "user_tz": -330
    },
    "id": "5icIvnrG73fI",
    "outputId": "72cf25fd-55c7-4699-d288-14d6a4225288"
   },
   "outputs": [
    {
     "data": {
      "image/png": "[encoded data removed]",
      "text/plain": [
       "<Figure size 432x288 with 1 Axes>"
      ]
     },
     "metadata": {
      "tags": []
     },
     "output_type": "display_data"
    },
    {
     "data": {
      "image/png": "[encoded data removed]",
      "text/plain": [
       "<Figure size 432x288 with 1 Axes>"
      ]
     },
     "metadata": {
      "tags": []
     },
     "output_type": "display_data"
    },
    {
     "data": {
      "image/png": "[encoded data removed]",
      "text/plain": [
       "<Figure size 432x288 with 1 Axes>"
      ]
     },
     "metadata": {
      "tags": []
     },
     "output_type": "display_data"
    },
    {
     "data": {
      "image/png": "[encoded data removed]",
      "text/plain": [
       "<Figure size 432x288 with 1 Axes>"
      ]
     },
     "metadata": {
      "tags": []
     },
     "output_type": "display_data"
    },
    {
     "data": {
      "image/png": "[encoded data removed]",
      "text/plain": [
       "<Figure size 432x288 with 1 Axes>"
      ]
     },
     "metadata": {
      "tags": []
     },
     "output_type": "display_data"
    }
   ],
   "source": [
    "for i in range(5):\n",
    "    plt.imshow(X_train[i, :, :])\n",
    "    plt.show()"
   ]
  },
  {
   "cell_type": "code",
   "execution_count": 25,
   "metadata": {
    "colab": {
     "base_uri": "https://localhost:8080/",
     "height": 34
    },
    "colab_type": "code",
    "executionInfo": {
     "elapsed": 131052,
     "status": "ok",
     "timestamp": 1561334321665,
     "user": {
      "displayName": "mridul aggarwal",
      "photoUrl": "",
      "userId": "16473271831777220551"
     },
     "user_tz": -330
    },
    "id": "rwAn1vq-8B-a",
    "outputId": "fb2e9332-c0de-4b0e-e91a-6e3cd8a3a62f"
   },
   "outputs": [
    {
     "data": {
      "text/plain": [
       "0"
      ]
     },
     "execution_count": 25,
     "metadata": {
      "tags": []
     },
     "output_type": "execute_result"
    }
   ],
   "source": [
    "max(y_train)\n",
    "\n",
    "min(y_train)"
   ]
  },
  {
   "cell_type": "markdown",
   "metadata": {
    "colab_type": "text",
    "id": "ki7lhaDq8LZa"
   },
   "source": [
    "# The images in X_train belongs to 10 classes specified in Y_train by a number between 0 to 9"
   ]
  },
  {
   "cell_type": "markdown",
   "metadata": {
    "colab_type": "text",
    "id": "yVOBDdsZ9Jum"
   },
   "source": [
    "# Reshaping X data for CNN Model"
   ]
  },
  {
   "cell_type": "code",
   "execution_count": 0,
   "metadata": {
    "colab": {},
    "colab_type": "code",
    "id": "4NdTQbqq9LxJ"
   },
   "outputs": [],
   "source": [
    "X_train = X_train.reshape(X_train.shape[0], *(28, 28, 1))\n",
    "X_test = X_test.reshape(X_test.shape[0], *(28, 28, 1))"
   ]
  },
  {
   "cell_type": "code",
   "execution_count": 12,
   "metadata": {
    "colab": {
     "base_uri": "https://localhost:8080/",
     "height": 52
    },
    "colab_type": "code",
    "executionInfo": {
     "elapsed": 6354,
     "status": "ok",
     "timestamp": 1561334138762,
     "user": {
      "displayName": "mridul aggarwal",
      "photoUrl": "",
      "userId": "16473271831777220551"
     },
     "user_tz": -330
    },
    "id": "HD1lCOqd9PnQ",
    "outputId": "0c13781b-837e-4e8f-f898-624b02905f4a"
   },
   "outputs": [
    {
     "name": "stdout",
     "output_type": "stream",
     "text": [
      "(60000, 28, 28, 1)\n",
      "(10000, 28, 28, 1)\n"
     ]
    }
   ],
   "source": [
    "print(X_train.shape)\n",
    "print(X_test.shape)"
   ]
  },
  {
   "cell_type": "markdown",
   "metadata": {
    "colab_type": "text",
    "id": "ujsEvVbv9X0E"
   },
   "source": [
    "# As we have to classify images, we should use Convolution Neural Networks"
   ]
  },
  {
   "cell_type": "markdown",
   "metadata": {
    "colab_type": "text",
    "id": "Kgr4fxrN9gaF"
   },
   "source": [
    "# Splitting the data into training and validation data"
   ]
  },
  {
   "cell_type": "code",
   "execution_count": 0,
   "metadata": {
    "colab": {},
    "colab_type": "code",
    "id": "KJADcQds9iec"
   },
   "outputs": [],
   "source": [
    "from sklearn.model_selection import train_test_split\n",
    "X_train, X_val, y_train, y_val = train_test_split(X_train, y_train, test_size = 0.2, random_state=42)"
   ]
  },
  {
   "cell_type": "code",
   "execution_count": 14,
   "metadata": {
    "colab": {
     "base_uri": "https://localhost:8080/",
     "height": 70
    },
    "colab_type": "code",
    "executionInfo": {
     "elapsed": 6316,
     "status": "ok",
     "timestamp": 1561334138766,
     "user": {
      "displayName": "mridul aggarwal",
      "photoUrl": "",
      "userId": "16473271831777220551"
     },
     "user_tz": -330
    },
    "id": "hOQMx9OB9mKJ",
    "outputId": "f748c7b0-2a77-4c3e-9274-d7b63bb40368"
   },
   "outputs": [
    {
     "name": "stdout",
     "output_type": "stream",
     "text": [
      "(48000, 28, 28, 1)\n",
      "(12000, 28, 28, 1)\n",
      "(48000,)\n"
     ]
    }
   ],
   "source": [
    "print(X_train.shape)\n",
    "print(X_val.shape)\n",
    "print(y_train.shape)"
   ]
  },
  {
   "cell_type": "markdown",
   "metadata": {
    "colab_type": "text",
    "id": "69XrTyk3YK4i"
   },
   "source": [
    "# Normalising the images"
   ]
  },
  {
   "cell_type": "code",
   "execution_count": 0,
   "metadata": {
    "colab": {},
    "colab_type": "code",
    "id": "dbmqANe-YNzX"
   },
   "outputs": [],
   "source": [
    "X_train = X_train.astype('float32')\n",
    "X_val = X_val.astype('float32')\n",
    "X_train /= 255\n",
    "X_val /= 255"
   ]
  },
  {
   "cell_type": "markdown",
   "metadata": {
    "colab_type": "text",
    "id": "Yk97izA89yHo"
   },
   "source": [
    "# Creating a CNN Model"
   ]
  },
  {
   "cell_type": "code",
   "execution_count": 16,
   "metadata": {
    "colab": {
     "base_uri": "https://localhost:8080/",
     "height": 34
    },
    "colab_type": "code",
    "executionInfo": {
     "elapsed": 8794,
     "status": "ok",
     "timestamp": 1561334141280,
     "user": {
      "displayName": "mridul aggarwal",
      "photoUrl": "",
      "userId": "16473271831777220551"
     },
     "user_tz": -330
    },
    "id": "cRx9SjU09zLt",
    "outputId": "dc12c72e-ca3d-4d67-d9aa-c45d887c68dd"
   },
   "outputs": [
    {
     "name": "stderr",
     "output_type": "stream",
     "text": [
      "Using TensorFlow backend.\n"
     ]
    }
   ],
   "source": [
    "from keras.models import Sequential\n",
    "from keras.layers import Conv2D, Dense, Flatten, Activation, MaxPool2D, Dropout,BatchNormalization\n",
    "from keras.optimizers import Adam\n",
    "from keras.callbacks import TensorBoard, ReduceLROnPlateau"
   ]
  },
  {
   "cell_type": "markdown",
   "metadata": {
    "colab_type": "text",
    "id": "AvbW5SLXggAE"
   },
   "source": [
    "# Defining our CNN Model"
   ]
  },
  {
   "cell_type": "code",
   "execution_count": 17,
   "metadata": {
    "colab": {
     "base_uri": "https://localhost:8080/",
     "height": 794
    },
    "colab_type": "code",
    "executionInfo": {
     "elapsed": 8769,
     "status": "ok",
     "timestamp": 1561334141284,
     "user": {
      "displayName": "mridul aggarwal",
      "photoUrl": "",
      "userId": "16473271831777220551"
     },
     "user_tz": -330
    },
    "id": "MXCu2Mfu92kv",
    "outputId": "1e23e866-ab8e-4ff8-b9ff-81b3cbe11cd4"
   },
   "outputs": [
    {
     "name": "stderr",
     "output_type": "stream",
     "text": [
      "WARNING: Logging before flag parsing goes to stderr.\n",
      "W0624 05:25:43.716088 140684023367552 deprecation_wrapper.py:119] From /usr/local/lib/python3.6/dist-packages/keras/backend/tensorflow_backend.py:74: The name tf.get_default_graph is deprecated. Please use tf.compat.v1.get_default_graph instead.\n",
      "\n",
      "W0624 05:25:43.736150 140684023367552 deprecation_wrapper.py:119] From /usr/local/lib/python3.6/dist-packages/keras/backend/tensorflow_backend.py:517: The name tf.placeholder is deprecated. Please use tf.compat.v1.placeholder instead.\n",
      "\n",
      "W0624 05:25:43.740620 140684023367552 deprecation_wrapper.py:119] From /usr/local/lib/python3.6/dist-packages/keras/backend/tensorflow_backend.py:4138: The name tf.random_uniform is deprecated. Please use tf.random.uniform instead.\n",
      "\n",
      "W0624 05:25:43.768040 140684023367552 deprecation_wrapper.py:119] From /usr/local/lib/python3.6/dist-packages/keras/backend/tensorflow_backend.py:3976: The name tf.nn.max_pool is deprecated. Please use tf.nn.max_pool2d instead.\n",
      "\n",
      "W0624 05:25:43.772102 140684023367552 deprecation_wrapper.py:119] From /usr/local/lib/python3.6/dist-packages/keras/backend/tensorflow_backend.py:133: The name tf.placeholder_with_default is deprecated. Please use tf.compat.v1.placeholder_with_default instead.\n",
      "\n",
      "W0624 05:25:43.782216 140684023367552 deprecation.py:506] From /usr/local/lib/python3.6/dist-packages/keras/backend/tensorflow_backend.py:3445: calling dropout (from tensorflow.python.ops.nn_ops) with keep_prob is deprecated and will be removed in a future version.\n",
      "Instructions for updating:\n",
      "Please use `rate` instead of `keep_prob`. Rate should be set to `rate = 1 - keep_prob`.\n"
     ]
    },
    {
     "name": "stdout",
     "output_type": "stream",
     "text": [
      "_________________________________________________________________\n",
      "Layer (type)                 Output Shape              Param #   \n",
      "=================================================================\n",
      "conv2d_1 (Conv2D)            (None, 28, 28, 32)        320       \n",
      "_________________________________________________________________\n",
      "conv2d_2 (Conv2D)            (None, 28, 28, 64)        18496     \n",
      "_________________________________________________________________\n",
      "max_pooling2d_1 (MaxPooling2 (None, 9, 9, 64)          0         \n",
      "_________________________________________________________________\n",
      "dropout_1 (Dropout)          (None, 9, 9, 64)          0         \n",
      "_________________________________________________________________\n",
      "conv2d_3 (Conv2D)            (None, 9, 9, 64)          36928     \n",
      "_________________________________________________________________\n",
      "max_pooling2d_2 (MaxPooling2 (None, 4, 4, 64)          0         \n",
      "_________________________________________________________________\n",
      "dropout_2 (Dropout)          (None, 4, 4, 64)          0         \n",
      "_________________________________________________________________\n",
      "flatten_1 (Flatten)          (None, 1024)              0         \n",
      "_________________________________________________________________\n",
      "dense_1 (Dense)              (None, 256)               262400    \n",
      "_________________________________________________________________\n",
      "dropout_3 (Dropout)          (None, 256)               0         \n",
      "_________________________________________________________________\n",
      "dense_2 (Dense)              (None, 10)                2570      \n",
      "=================================================================\n",
      "Total params: 320,714\n",
      "Trainable params: 320,714\n",
      "Non-trainable params: 0\n",
      "_________________________________________________________________\n"
     ]
    }
   ],
   "source": [
    "model = Sequential()\n",
    "model.add(Conv2D(filters = 32, kernel_size = (3,3), padding = 'Same', \n",
    "                 activation ='relu', input_shape = (28,28,1)))\n",
    "model.add(Conv2D(filters = 64, kernel_size = (3,3), padding = 'Same', \n",
    "                 activation ='relu'))\n",
    "model.add(MaxPool2D(pool_size=(3,3)))\n",
    "model.add(Dropout(0.35))\n",
    "model.add(Conv2D(filters = 64, kernel_size = (3,3), padding = 'Same', \n",
    "                 activation ='relu'))\n",
    "model.add(MaxPool2D(pool_size=(2,2)))\n",
    "model.add(Dropout(0.3))\n",
    "model.add(Flatten())\n",
    "model.add(Dense(units = 256, activation = 'relu'))\n",
    "model.add(Dropout(0.4))\n",
    "model.add(Dense(units = 10, activation = 'softmax'))\n",
    "model.summary()"
   ]
  },
  {
   "cell_type": "markdown",
   "metadata": {
    "colab_type": "text",
    "id": "Ibv_TotXgn8O"
   },
   "source": [
    "# Plotting the model as a flowchart"
   ]
  },
  {
   "cell_type": "code",
   "execution_count": 18,
   "metadata": {
    "colab": {
     "base_uri": "https://localhost:8080/",
     "height": 655
    },
    "colab_type": "code",
    "executionInfo": {
     "elapsed": 8740,
     "status": "ok",
     "timestamp": 1561334141285,
     "user": {
      "displayName": "mridul aggarwal",
      "photoUrl": "",
      "userId": "16473271831777220551"
     },
     "user_tz": -330
    },
    "id": "XO1lRIO-979i",
    "outputId": "d6dc802f-4a36-425e-edb4-882c5cda6b5b"
   },
   "outputs": [
    {
     "data": {
      "image/png": "[encoded data removed]",
      "text/plain": [
       "<IPython.core.display.Image object>"
      ]
     },
     "execution_count": 18,
     "metadata": {
      "image/png": {
       "height": 638,
       "width": 274
      },
      "tags": []
     },
     "output_type": "execute_result"
    }
   ],
   "source": [
    "from keras.utils import plot_model\n",
    "plot_model(model, show_shapes=True, show_layer_names=True, to_file='drive/My Drive/Assignment-3/model.png')\n",
    "from IPython.display import Image\n",
    "Image(retina=True, filename='drive/My Drive/Assignment-3/model.png')"
   ]
  },
  {
   "cell_type": "markdown",
   "metadata": {
    "colab_type": "text",
    "id": "2fpOZ_omg_zZ"
   },
   "source": [
    "# Compiling our model and fitting the data in the model"
   ]
  },
  {
   "cell_type": "code",
   "execution_count": 19,
   "metadata": {
    "colab": {
     "base_uri": "https://localhost:8080/",
     "height": 1938
    },
    "colab_type": "code",
    "executionInfo": {
     "elapsed": 187345,
     "status": "ok",
     "timestamp": 1561334319924,
     "user": {
      "displayName": "mridul aggarwal",
      "photoUrl": "",
      "userId": "16473271831777220551"
     },
     "user_tz": -330
    },
    "id": "DLHgLqzR-KAS",
    "outputId": "77333aaf-d6a2-432b-d251-f628747863b4"
   },
   "outputs": [
    {
     "name": "stderr",
     "output_type": "stream",
     "text": [
      "W0624 05:25:44.049892 140684023367552 deprecation_wrapper.py:119] From /usr/local/lib/python3.6/dist-packages/keras/optimizers.py:790: The name tf.train.Optimizer is deprecated. Please use tf.compat.v1.train.Optimizer instead.\n",
      "\n",
      "W0624 05:25:44.060271 140684023367552 deprecation_wrapper.py:119] From /usr/local/lib/python3.6/dist-packages/keras/backend/tensorflow_backend.py:3341: The name tf.log is deprecated. Please use tf.math.log instead.\n",
      "\n",
      "W0624 05:25:44.147092 140684023367552 deprecation.py:323] From /usr/local/lib/python3.6/dist-packages/tensorflow/python/ops/math_grad.py:1250: add_dispatch_support.<locals>.wrapper (from tensorflow.python.ops.array_ops) is deprecated and will be removed in a future version.\n",
      "Instructions for updating:\n",
      "Use tf.where in 2.0, which has the same broadcast rule as np.where\n"
     ]
    },
    {
     "name": "stdout",
     "output_type": "stream",
     "text": [
      "Train on 48000 samples, validate on 12000 samples\n",
      "Epoch 1/50\n",
      "48000/48000 [==============================] - 7s 152us/step - loss: 0.7710 - acc: 0.7118 - val_loss: 0.4299 - val_acc: 0.8449\n",
      "Epoch 2/50\n",
      "48000/48000 [==============================] - 4s 73us/step - loss: 0.4431 - acc: 0.8393 - val_loss: 0.3481 - val_acc: 0.8709\n",
      "Epoch 3/50\n",
      "48000/48000 [==============================] - 4s 74us/step - loss: 0.3756 - acc: 0.8642 - val_loss: 0.3019 - val_acc: 0.8878\n",
      "Epoch 4/50\n",
      "48000/48000 [==============================] - 4s 73us/step - loss: 0.3372 - acc: 0.8776 - val_loss: 0.2807 - val_acc: 0.8954\n",
      "Epoch 5/50\n",
      "48000/48000 [==============================] - 4s 74us/step - loss: 0.3141 - acc: 0.8843 - val_loss: 0.2680 - val_acc: 0.9039\n",
      "Epoch 6/50\n",
      "48000/48000 [==============================] - 4s 74us/step - loss: 0.2918 - acc: 0.8928 - val_loss: 0.2531 - val_acc: 0.9048\n",
      "Epoch 7/50\n",
      "48000/48000 [==============================] - 4s 74us/step - loss: 0.2778 - acc: 0.8980 - val_loss: 0.2413 - val_acc: 0.9117\n",
      "Epoch 8/50\n",
      "48000/48000 [==============================] - 4s 74us/step - loss: 0.2666 - acc: 0.9020 - val_loss: 0.2357 - val_acc: 0.9123\n",
      "Epoch 9/50\n",
      "48000/48000 [==============================] - 4s 74us/step - loss: 0.2552 - acc: 0.9054 - val_loss: 0.2245 - val_acc: 0.9166\n",
      "Epoch 10/50\n",
      "48000/48000 [==============================] - 4s 74us/step - loss: 0.2449 - acc: 0.9089 - val_loss: 0.2154 - val_acc: 0.9218\n",
      "Epoch 11/50\n",
      "48000/48000 [==============================] - 4s 73us/step - loss: 0.2361 - acc: 0.9128 - val_loss: 0.2198 - val_acc: 0.9192\n",
      "Epoch 12/50\n",
      "48000/48000 [==============================] - 4s 75us/step - loss: 0.2290 - acc: 0.9157 - val_loss: 0.2113 - val_acc: 0.9227\n",
      "Epoch 13/50\n",
      "48000/48000 [==============================] - 3s 73us/step - loss: 0.2206 - acc: 0.9188 - val_loss: 0.2130 - val_acc: 0.9218\n",
      "Epoch 14/50\n",
      "48000/48000 [==============================] - 4s 73us/step - loss: 0.2199 - acc: 0.9176 - val_loss: 0.2003 - val_acc: 0.9262\n",
      "Epoch 15/50\n",
      "48000/48000 [==============================] - 4s 73us/step - loss: 0.2152 - acc: 0.9197 - val_loss: 0.1984 - val_acc: 0.9272\n",
      "Epoch 16/50\n",
      "48000/48000 [==============================] - 3s 73us/step - loss: 0.2106 - acc: 0.9223 - val_loss: 0.1980 - val_acc: 0.9256\n",
      "Epoch 17/50\n",
      "48000/48000 [==============================] - 3s 73us/step - loss: 0.2016 - acc: 0.9248 - val_loss: 0.1938 - val_acc: 0.9297\n",
      "Epoch 18/50\n",
      "48000/48000 [==============================] - 3s 73us/step - loss: 0.1975 - acc: 0.9263 - val_loss: 0.1990 - val_acc: 0.9258\n",
      "Epoch 19/50\n",
      "48000/48000 [==============================] - 3s 73us/step - loss: 0.1913 - acc: 0.9298 - val_loss: 0.1888 - val_acc: 0.9304\n",
      "Epoch 20/50\n",
      "48000/48000 [==============================] - 4s 73us/step - loss: 0.1909 - acc: 0.9291 - val_loss: 0.1875 - val_acc: 0.9328\n",
      "Epoch 21/50\n",
      "48000/48000 [==============================] - 4s 73us/step - loss: 0.1863 - acc: 0.9301 - val_loss: 0.1866 - val_acc: 0.9323\n",
      "Epoch 22/50\n",
      "48000/48000 [==============================] - 4s 74us/step - loss: 0.1799 - acc: 0.9325 - val_loss: 0.1860 - val_acc: 0.9305\n",
      "Epoch 23/50\n",
      "48000/48000 [==============================] - 4s 74us/step - loss: 0.1806 - acc: 0.9326 - val_loss: 0.1930 - val_acc: 0.9288\n",
      "Epoch 24/50\n",
      "48000/48000 [==============================] - 4s 74us/step - loss: 0.1756 - acc: 0.9339 - val_loss: 0.1840 - val_acc: 0.9335\n",
      "Epoch 25/50\n",
      "48000/48000 [==============================] - 4s 73us/step - loss: 0.1718 - acc: 0.9347 - val_loss: 0.1864 - val_acc: 0.9304\n",
      "Epoch 26/50\n",
      "48000/48000 [==============================] - 3s 73us/step - loss: 0.1674 - acc: 0.9365 - val_loss: 0.1816 - val_acc: 0.9323\n",
      "Epoch 27/50\n",
      "48000/48000 [==============================] - 3s 73us/step - loss: 0.1714 - acc: 0.9369 - val_loss: 0.1762 - val_acc: 0.9343\n",
      "Epoch 28/50\n",
      "48000/48000 [==============================] - 3s 72us/step - loss: 0.1648 - acc: 0.9383 - val_loss: 0.1788 - val_acc: 0.9335\n",
      "Epoch 29/50\n",
      "48000/48000 [==============================] - 3s 73us/step - loss: 0.1617 - acc: 0.9374 - val_loss: 0.1802 - val_acc: 0.9322\n",
      "Epoch 30/50\n",
      "48000/48000 [==============================] - 3s 73us/step - loss: 0.1621 - acc: 0.9386 - val_loss: 0.1810 - val_acc: 0.9338\n",
      "Epoch 31/50\n",
      "48000/48000 [==============================] - 3s 73us/step - loss: 0.1582 - acc: 0.9412 - val_loss: 0.1794 - val_acc: 0.9328\n",
      "Epoch 32/50\n",
      "48000/48000 [==============================] - 3s 73us/step - loss: 0.1553 - acc: 0.9399 - val_loss: 0.1781 - val_acc: 0.9356\n",
      "Epoch 33/50\n",
      "48000/48000 [==============================] - 4s 73us/step - loss: 0.1514 - acc: 0.9419 - val_loss: 0.1734 - val_acc: 0.9364\n",
      "Epoch 34/50\n",
      "48000/48000 [==============================] - 3s 72us/step - loss: 0.1517 - acc: 0.9432 - val_loss: 0.1784 - val_acc: 0.9355\n",
      "Epoch 35/50\n",
      "48000/48000 [==============================] - 3s 72us/step - loss: 0.1480 - acc: 0.9440 - val_loss: 0.1795 - val_acc: 0.9362\n",
      "Epoch 36/50\n",
      "48000/48000 [==============================] - 3s 72us/step - loss: 0.1492 - acc: 0.9426 - val_loss: 0.1763 - val_acc: 0.9353\n",
      "Epoch 37/50\n",
      "48000/48000 [==============================] - 3s 72us/step - loss: 0.1455 - acc: 0.9452 - val_loss: 0.1747 - val_acc: 0.9367\n",
      "Epoch 38/50\n",
      "48000/48000 [==============================] - 3s 72us/step - loss: 0.1407 - acc: 0.9464 - val_loss: 0.1752 - val_acc: 0.9372\n",
      "Epoch 39/50\n",
      "48000/48000 [==============================] - 4s 73us/step - loss: 0.1398 - acc: 0.9470 - val_loss: 0.1798 - val_acc: 0.9338\n",
      "Epoch 40/50\n",
      "48000/48000 [==============================] - 3s 72us/step - loss: 0.1394 - acc: 0.9468 - val_loss: 0.1754 - val_acc: 0.9360\n",
      "Epoch 41/50\n",
      "48000/48000 [==============================] - 3s 72us/step - loss: 0.1401 - acc: 0.9468 - val_loss: 0.1730 - val_acc: 0.9364\n",
      "Epoch 42/50\n",
      "48000/48000 [==============================] - 3s 72us/step - loss: 0.1353 - acc: 0.9489 - val_loss: 0.1765 - val_acc: 0.9372\n",
      "Epoch 43/50\n",
      "48000/48000 [==============================] - 3s 72us/step - loss: 0.1330 - acc: 0.9496 - val_loss: 0.1759 - val_acc: 0.9390\n",
      "Epoch 44/50\n",
      "48000/48000 [==============================] - 3s 72us/step - loss: 0.1334 - acc: 0.9490 - val_loss: 0.1779 - val_acc: 0.9363\n",
      "Epoch 45/50\n",
      "48000/48000 [==============================] - 3s 72us/step - loss: 0.1342 - acc: 0.9490 - val_loss: 0.1730 - val_acc: 0.9385\n",
      "Epoch 46/50\n",
      "48000/48000 [==============================] - 3s 72us/step - loss: 0.1299 - acc: 0.9507 - val_loss: 0.1779 - val_acc: 0.9361\n",
      "Epoch 47/50\n",
      "48000/48000 [==============================] - 3s 72us/step - loss: 0.1289 - acc: 0.9494 - val_loss: 0.1755 - val_acc: 0.9383\n",
      "Epoch 48/50\n",
      "48000/48000 [==============================] - 3s 73us/step - loss: 0.1285 - acc: 0.9504 - val_loss: 0.1843 - val_acc: 0.9343\n",
      "Epoch 49/50\n",
      "48000/48000 [==============================] - 3s 72us/step - loss: 0.1291 - acc: 0.9511 - val_loss: 0.1804 - val_acc: 0.9368\n",
      "Epoch 50/50\n",
      "48000/48000 [==============================] - 3s 72us/step - loss: 0.1275 - acc: 0.9510 - val_loss: 0.1771 - val_acc: 0.9362\n"
     ]
    }
   ],
   "source": [
    "model.compile(optimizer=Adam(lr=0.001), loss='sparse_categorical_crossentropy', metrics=['accuracy'])\n",
    "\n",
    "history = model.fit(X_train, y_train, batch_size=256, epochs=50,verbose=1, validation_data=(X_val, y_val))"
   ]
  },
  {
   "cell_type": "markdown",
   "metadata": {
    "colab_type": "text",
    "id": "AvqYcLRte-Gr"
   },
   "source": [
    "# We are getting accuracy of 93.62 using a CNN model"
   ]
  },
  {
   "cell_type": "markdown",
   "metadata": {
    "colab_type": "text",
    "id": "bG_EfvE8fXte"
   },
   "source": [
    "# Plotting the model accuracy and losses graphically"
   ]
  },
  {
   "cell_type": "code",
   "execution_count": 20,
   "metadata": {
    "colab": {
     "base_uri": "https://localhost:8080/",
     "height": 370
    },
    "colab_type": "code",
    "executionInfo": {
     "elapsed": 187733,
     "status": "ok",
     "timestamp": 1561334320348,
     "user": {
      "displayName": "mridul aggarwal",
      "photoUrl": "",
      "userId": "16473271831777220551"
     },
     "user_tz": -330
    },
    "id": "CvsbvbT6-O7l",
    "outputId": "b55c727f-1b94-462c-8f0f-1c7bfbb183a1"
   },
   "outputs": [
    {
     "data": {
      "image/png": "[encoded data removed]",
      "text/plain": [
       "<Figure size 1008x360 with 2 Axes>"
      ]
     },
     "metadata": {
      "tags": []
     },
     "output_type": "display_data"
    }
   ],
   "source": [
    "plt.figure(figsize=(14,5))\n",
    "plt.subplot(1, 2, 1)\n",
    "plt.suptitle('Train Results', fontsize=10)\n",
    "plt.xlabel(\"Number of Epochs\")\n",
    "plt.ylabel('Loss', fontsize=16)\n",
    "plt.plot(history.history['loss'], color='b', label='Training Loss')\n",
    "plt.plot(history.history['val_loss'], color='r', label='Validation Loss')\n",
    "plt.legend(loc='upper right')\n",
    "\n",
    "plt.subplot(1, 2, 2)\n",
    "plt.ylabel('Accuracy', fontsize=16)\n",
    "plt.plot(history.history['acc'], color='green', label='Training Accuracy')\n",
    "plt.plot(history.history['val_acc'], color='orange', label='Validation Accuracy')\n",
    "plt.legend(loc='lower right')\n",
    "plt.show()"
   ]
  },
  {
   "cell_type": "markdown",
   "metadata": {
    "colab_type": "text",
    "id": "q8De0w0qfx5J"
   },
   "source": [
    "# Predicting the classes of our testing data"
   ]
  },
  {
   "cell_type": "code",
   "execution_count": 0,
   "metadata": {
    "colab": {},
    "colab_type": "code",
    "id": "yoSbAEhF_z8S"
   },
   "outputs": [],
   "source": [
    "y_pred = model.predict_classes(X_test)"
   ]
  },
  {
   "cell_type": "code",
   "execution_count": 22,
   "metadata": {
    "colab": {
     "base_uri": "https://localhost:8080/",
     "height": 34
    },
    "colab_type": "code",
    "executionInfo": {
     "elapsed": 188113,
     "status": "ok",
     "timestamp": 1561334320772,
     "user": {
      "displayName": "mridul aggarwal",
      "photoUrl": "",
      "userId": "16473271831777220551"
     },
     "user_tz": -330
    },
    "id": "F0K1AKyG_4CT",
    "outputId": "b8de72bc-2447-4df5-f8cc-44c45acefbf0"
   },
   "outputs": [
    {
     "data": {
      "text/plain": [
       "array([9, 2, 1, ..., 8, 1, 7])"
      ]
     },
     "execution_count": 22,
     "metadata": {
      "tags": []
     },
     "output_type": "execute_result"
    }
   ],
   "source": [
    "y_pred"
   ]
  },
  {
   "cell_type": "markdown",
   "metadata": {
    "colab_type": "text",
    "id": "QKyQSDyigM-a"
   },
   "source": [
    "# Writing the predictions to a file"
   ]
  },
  {
   "cell_type": "code",
   "execution_count": 0,
   "metadata": {
    "colab": {},
    "colab_type": "code",
    "id": "cYPIP_Wy9uJ6"
   },
   "outputs": [],
   "source": [
    "pd.DataFrame(y_pred).to_pickle(\"drive/My Drive/Assignment-3/predictions.pickle\")"
   ]
  },
  {
   "cell_type": "markdown",
   "metadata": {
    "colab_type": "text",
    "id": "zqLCr6NvgUcC"
   },
   "source": [
    "# Saving the model weights so that it can be used in future"
   ]
  },
  {
   "cell_type": "code",
   "execution_count": 0,
   "metadata": {
    "colab": {},
    "colab_type": "code",
    "id": "EcSDQOKxAQ7f"
   },
   "outputs": [],
   "source": [
    "model.save(\"drive/My Drive/Assignment-3/myModel.h5\")"
   ]
  },
  {
   "cell_type": "markdown",
   "metadata": {},
   "source": [
    "# With a complex sequential model of multiple convolution layers and multiple dropout layers (to reduce overfitting) , an accuracy of ~93.6% is obtained. Results are saved in \"predictions.pickle\" file."
   ]
  }
 ],
 "metadata": {
  "accelerator": "GPU",
  "colab": {
   "collapsed_sections": [],
   "name": "Assignment-3.ipynb",
   "provenance": [],
   "version": "0.3.2"
  },
  "kernelspec": {
   "display_name": "Python 3",
   "language": "python",
   "name": "python3"
  },
  "language_info": {
   "codemirror_mode": {
    "name": "ipython",
    "version": 3
   },
   "file_extension": ".py",
   "mimetype": "text/x-python",
   "name": "python",
   "nbconvert_exporter": "python",
   "pygments_lexer": "ipython3",
   "version": "3.7.3"
  }
 },
 "nbformat": 4,
 "nbformat_minor": 1
}
